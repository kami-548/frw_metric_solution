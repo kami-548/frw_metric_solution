{
 "cells": [
  {
   "cell_type": "code",
   "execution_count": 2,
   "metadata": {},
   "outputs": [
    {
     "data": {
      "text/latex": [
       "$\\displaystyle \\left[\\begin{matrix}-1 & 0 & 0 & 0\\\\0 & a^{2}{\\left(t \\right)} & 0 & 0\\\\0 & 0 & a^{2}{\\left(t \\right)} \\sin^{2}{\\left(\\theta \\right)} & 0\\\\0 & 0 & 0 & a^{2}{\\left(t \\right)} \\sin^{2}{\\left(\\theta \\right)}\\end{matrix}\\right]$"
      ],
      "text/plain": [
       "[[-1, 0, 0, 0], [0, a(t)**2, 0, 0], [0, 0, a(t)**2*sin(theta)**2, 0], [0, 0, 0, a(t)**2*sin(theta)**2]]"
      ]
     },
     "execution_count": 2,
     "metadata": {},
     "output_type": "execute_result"
    }
   ],
   "source": [
    "import sympy as sp\n",
    "from sympy.tensor.array import Array\n",
    "from einsteinpy.symbolic import MetricTensor, ChristoffelSymbols, RiemannCurvatureTensor, RicciTensor, EinsteinTensor, RicciScalar\n",
    "\n",
    "# Define the symbolic variables\n",
    "t, r, theta, phi = sp.symbols('t r theta phi')\n",
    "a = sp.Function('a')(t)  # Scale factor\n",
    "\n",
    "# Define the FRW metric as a multi-dimensional list or Sympy Array\n",
    "frw_metric = Array([[-1, 0, 0, 0],\n",
    "                   [0, a**2, 0, 0],\n",
    "                   [0, 0, a**2 * sp.sin(theta)**2, 0],\n",
    "                   [0, 0, 0, a**2 * sp.sin(theta)**2]])\n",
    "\n",
    "# Create the metric tensor object\n",
    "# g = MetricTensor(frw_metric, [t, r, theta, phi])\n",
    "# g\n",
    "\n",
    "metric= MetricTensor(frw_metric, [t, r, theta, phi], config=\"ll\")\n",
    "metric.tensor()\n"
   ]
  },
  {
   "cell_type": "code",
   "execution_count": 5,
   "metadata": {},
   "outputs": [
    {
     "data": {
      "text/latex": [
       "$\\displaystyle \\left[\\begin{matrix}\\left[\\begin{matrix}0 & 0 & 0 & 0\\\\0 & a{\\left(t \\right)} \\frac{d}{d t} a{\\left(t \\right)} & 0 & 0\\\\0 & 0 & a{\\left(t \\right)} \\sin^{2}{\\left(\\theta \\right)} \\frac{d}{d t} a{\\left(t \\right)} & 0\\\\0 & 0 & 0 & a{\\left(t \\right)} \\sin^{2}{\\left(\\theta \\right)} \\frac{d}{d t} a{\\left(t \\right)}\\end{matrix}\\right] & \\left[\\begin{matrix}0 & \\frac{\\frac{d}{d t} a{\\left(t \\right)}}{a{\\left(t \\right)}} & 0 & 0\\\\\\frac{\\frac{d}{d t} a{\\left(t \\right)}}{a{\\left(t \\right)}} & 0 & 0 & 0\\\\0 & 0 & 0 & 0\\\\0 & 0 & 0 & 0\\end{matrix}\\right] & \\left[\\begin{matrix}0 & 0 & \\frac{\\frac{d}{d t} a{\\left(t \\right)}}{a{\\left(t \\right)}} & 0\\\\0 & 0 & 0 & 0\\\\\\frac{\\frac{d}{d t} a{\\left(t \\right)}}{a{\\left(t \\right)}} & 0 & \\frac{\\cos{\\left(\\theta \\right)}}{\\sin{\\left(\\theta \\right)}} & 0\\\\0 & 0 & 0 & - \\frac{\\cos{\\left(\\theta \\right)}}{\\sin{\\left(\\theta \\right)}}\\end{matrix}\\right] & \\left[\\begin{matrix}0 & 0 & 0 & \\frac{\\frac{d}{d t} a{\\left(t \\right)}}{a{\\left(t \\right)}}\\\\0 & 0 & 0 & 0\\\\0 & 0 & 0 & \\frac{\\cos{\\left(\\theta \\right)}}{\\sin{\\left(\\theta \\right)}}\\\\\\frac{\\frac{d}{d t} a{\\left(t \\right)}}{a{\\left(t \\right)}} & 0 & \\frac{\\cos{\\left(\\theta \\right)}}{\\sin{\\left(\\theta \\right)}} & 0\\end{matrix}\\right]\\end{matrix}\\right]$"
      ],
      "text/plain": [
       "[[[0, 0, 0, 0], [0, a(t)*Derivative(a(t), t), 0, 0], [0, 0, a(t)*sin(theta)**2*Derivative(a(t), t), 0], [0, 0, 0, a(t)*sin(theta)**2*Derivative(a(t), t)]], [[0, Derivative(a(t), t)/a(t), 0, 0], [Derivative(a(t), t)/a(t), 0, 0, 0], [0, 0, 0, 0], [0, 0, 0, 0]], [[0, 0, Derivative(a(t), t)/a(t), 0], [0, 0, 0, 0], [Derivative(a(t), t)/a(t), 0, cos(theta)/sin(theta), 0], [0, 0, 0, -cos(theta)/sin(theta)]], [[0, 0, 0, Derivative(a(t), t)/a(t)], [0, 0, 0, 0], [0, 0, 0, cos(theta)/sin(theta)], [Derivative(a(t), t)/a(t), 0, cos(theta)/sin(theta), 0]]]"
      ]
     },
     "execution_count": 5,
     "metadata": {},
     "output_type": "execute_result"
    }
   ],
   "source": [
    "chritoffel_symbols = ChristoffelSymbols.from_metric(metric)\n",
    "chritoffel_symbols.tensor()"
   ]
  },
  {
   "cell_type": "code",
   "execution_count": 6,
   "metadata": {},
   "outputs": [
    {
     "data": {
      "text/latex": [
       "$\\displaystyle \\left[\\begin{matrix}- \\frac{3 \\frac{d^{2}}{d t^{2}} a{\\left(t \\right)}}{a{\\left(t \\right)}} & 0 & 0 & 0\\\\0 & a{\\left(t \\right)} \\frac{d^{2}}{d t^{2}} a{\\left(t \\right)} + 2 \\left(\\frac{d}{d t} a{\\left(t \\right)}\\right)^{2} & 0 & 0\\\\0 & 0 & \\frac{\\left(a{\\left(t \\right)} \\frac{d^{2}}{d t^{2}} a{\\left(t \\right)} + 2 \\left(\\frac{d}{d t} a{\\left(t \\right)}\\right)^{2}\\right) \\sin^{4}{\\left(\\theta \\right)} + 1}{\\sin^{2}{\\left(\\theta \\right)}} & 0\\\\0 & 0 & 0 & \\frac{\\left(a{\\left(t \\right)} \\frac{d^{2}}{d t^{2}} a{\\left(t \\right)} + 2 \\left(\\frac{d}{d t} a{\\left(t \\right)}\\right)^{2}\\right) \\sin^{4}{\\left(\\theta \\right)} + 1}{\\sin^{2}{\\left(\\theta \\right)}}\\end{matrix}\\right]$"
      ],
      "text/plain": [
       "[[-3*Derivative(a(t), (t, 2))/a(t), 0, 0, 0], [0, a(t)*Derivative(a(t), (t, 2)) + 2*Derivative(a(t), t)**2, 0, 0], [0, 0, ((a(t)*Derivative(a(t), (t, 2)) + 2*Derivative(a(t), t)**2)*sin(theta)**4 + 1)/sin(theta)**2, 0], [0, 0, 0, ((a(t)*Derivative(a(t), (t, 2)) + 2*Derivative(a(t), t)**2)*sin(theta)**4 + 1)/sin(theta)**2]]"
      ]
     },
     "execution_count": 6,
     "metadata": {},
     "output_type": "execute_result"
    }
   ],
   "source": [
    "# Compute the Ricci tensor\n",
    "Ric = RicciTensor.from_metric(metric)\n",
    "Ric.tensor()\n"
   ]
  },
  {
   "cell_type": "code",
   "execution_count": 7,
   "metadata": {},
   "outputs": [
    {
     "data": {
      "text/latex": [
       "$\\displaystyle \\left[\\begin{matrix}\\frac{1.0 \\cdot \\left(3 a{\\left(t \\right)} \\frac{d^{2}}{d t^{2}} a{\\left(t \\right)} + 3 \\left(\\frac{d}{d t} a{\\left(t \\right)}\\right)^{2} + \\frac{1}{\\sin^{4}{\\left(\\theta \\right)}}\\right)}{a^{2}{\\left(t \\right)}} - \\frac{3 \\frac{d^{2}}{d t^{2}} a{\\left(t \\right)}}{a{\\left(t \\right)}} & 0 & 0 & 0\\\\0 & - 2.0 a{\\left(t \\right)} \\frac{d^{2}}{d t^{2}} a{\\left(t \\right)} - 1.0 \\left(\\frac{d}{d t} a{\\left(t \\right)}\\right)^{2} - \\frac{1.0}{\\sin^{4}{\\left(\\theta \\right)}} & 0 & 0\\\\0 & 0 & \\frac{\\left(a{\\left(t \\right)} \\frac{d^{2}}{d t^{2}} a{\\left(t \\right)} + 2 \\left(\\frac{d}{d t} a{\\left(t \\right)}\\right)^{2}\\right) \\sin^{4}{\\left(\\theta \\right)} + 1}{\\sin^{2}{\\left(\\theta \\right)}} - 1.0 \\cdot \\left(3 a{\\left(t \\right)} \\frac{d^{2}}{d t^{2}} a{\\left(t \\right)} + 3 \\left(\\frac{d}{d t} a{\\left(t \\right)}\\right)^{2} + \\frac{1}{\\sin^{4}{\\left(\\theta \\right)}}\\right) \\sin^{2}{\\left(\\theta \\right)} & 0\\\\0 & 0 & 0 & \\frac{\\left(a{\\left(t \\right)} \\frac{d^{2}}{d t^{2}} a{\\left(t \\right)} + 2 \\left(\\frac{d}{d t} a{\\left(t \\right)}\\right)^{2}\\right) \\sin^{4}{\\left(\\theta \\right)} + 1}{\\sin^{2}{\\left(\\theta \\right)}} - 1.0 \\cdot \\left(3 a{\\left(t \\right)} \\frac{d^{2}}{d t^{2}} a{\\left(t \\right)} + 3 \\left(\\frac{d}{d t} a{\\left(t \\right)}\\right)^{2} + \\frac{1}{\\sin^{4}{\\left(\\theta \\right)}}\\right) \\sin^{2}{\\left(\\theta \\right)}\\end{matrix}\\right]$"
      ],
      "text/plain": [
       "[[1.0*(3*a(t)*Derivative(a(t), (t, 2)) + 3*Derivative(a(t), t)**2 + sin(theta)**(-4))/a(t)**2 - 3*Derivative(a(t), (t, 2))/a(t), 0, 0, 0], [0, -2.0*a(t)*Derivative(a(t), (t, 2)) - 1.0*Derivative(a(t), t)**2 - 1.0/sin(theta)**4, 0, 0], [0, 0, ((a(t)*Derivative(a(t), (t, 2)) + 2*Derivative(a(t), t)**2)*sin(theta)**4 + 1)/sin(theta)**2 - 1.0*(3*a(t)*Derivative(a(t), (t, 2)) + 3*Derivative(a(t), t)**2 + sin(theta)**(-4))*sin(theta)**2, 0], [0, 0, 0, ((a(t)*Derivative(a(t), (t, 2)) + 2*Derivative(a(t), t)**2)*sin(theta)**4 + 1)/sin(theta)**2 - 1.0*(3*a(t)*Derivative(a(t), (t, 2)) + 3*Derivative(a(t), t)**2 + sin(theta)**(-4))*sin(theta)**2]]"
      ]
     },
     "execution_count": 7,
     "metadata": {},
     "output_type": "execute_result"
    }
   ],
   "source": [
    "einst = EinsteinTensor.from_metric(metric)\n",
    "einst.tensor()"
   ]
  },
  {
   "cell_type": "code",
   "execution_count": 10,
   "metadata": {},
   "outputs": [
    {
     "data": {
      "text/latex": [
       "$\\displaystyle \\frac{2 \\cdot \\left(3 a{\\left(t \\right)} \\frac{d^{2}}{d t^{2}} a{\\left(t \\right)} + 3 \\left(\\frac{d}{d t} a{\\left(t \\right)}\\right)^{2} + \\frac{1}{\\sin^{4}{\\left(\\theta \\right)}}\\right)}{a^{2}{\\left(t \\right)}}$"
      ],
      "text/plain": [
       "2*(3*a(t)*Derivative(a(t), (t, 2)) + 3*Derivative(a(t), t)**2 + sin(theta)**(-4))/a(t)**2"
      ]
     },
     "execution_count": 10,
     "metadata": {},
     "output_type": "execute_result"
    }
   ],
   "source": [
    "ricci_scalar = RicciScalar.from_metric(metric)\n",
    "ricci_scalar.tensor()"
   ]
  },
  {
   "cell_type": "code",
   "execution_count": 4,
   "metadata": {},
   "outputs": [
    {
     "data": {
      "text/latex": [
       "$\\displaystyle \\left[\\begin{matrix}\\left[\\begin{matrix}0 & 0 & 0 & 0\\\\0 & 0 & 0 & 0\\\\0 & 0 & 0 & 0\\\\0 & 0 & 0 & 0\\end{matrix}\\right] & \\left[\\begin{matrix}0 & a{\\left(t \\right)} \\frac{d^{2}}{d t^{2}} a{\\left(t \\right)} & 0 & 0\\\\- a{\\left(t \\right)} \\frac{d^{2}}{d t^{2}} a{\\left(t \\right)} & 0 & 0 & 0\\\\0 & 0 & 0 & 0\\\\0 & 0 & 0 & 0\\end{matrix}\\right] & \\left[\\begin{matrix}0 & 0 & a{\\left(t \\right)} \\sin^{2}{\\left(\\theta \\right)} \\frac{d^{2}}{d t^{2}} a{\\left(t \\right)} & 0\\\\0 & 0 & 0 & 0\\\\- a{\\left(t \\right)} \\sin^{2}{\\left(\\theta \\right)} \\frac{d^{2}}{d t^{2}} a{\\left(t \\right)} & 0 & 0 & 0\\\\0 & 0 & 0 & 0\\end{matrix}\\right] & \\left[\\begin{matrix}0 & 0 & 0 & a{\\left(t \\right)} \\sin^{2}{\\left(\\theta \\right)} \\frac{d^{2}}{d t^{2}} a{\\left(t \\right)}\\\\0 & 0 & 0 & 0\\\\0 & 0 & 0 & 0\\\\- a{\\left(t \\right)} \\sin^{2}{\\left(\\theta \\right)} \\frac{d^{2}}{d t^{2}} a{\\left(t \\right)} & 0 & 0 & 0\\end{matrix}\\right]\\\\\\left[\\begin{matrix}0 & \\frac{\\frac{d^{2}}{d t^{2}} a{\\left(t \\right)}}{a{\\left(t \\right)}} & 0 & 0\\\\- \\frac{\\frac{d^{2}}{d t^{2}} a{\\left(t \\right)}}{a{\\left(t \\right)}} & 0 & 0 & 0\\\\0 & 0 & 0 & 0\\\\0 & 0 & 0 & 0\\end{matrix}\\right] & \\left[\\begin{matrix}0 & 0 & 0 & 0\\\\0 & 0 & 0 & 0\\\\0 & 0 & 0 & 0\\\\0 & 0 & 0 & 0\\end{matrix}\\right] & \\left[\\begin{matrix}0 & 0 & 0 & 0\\\\0 & 0 & \\sin^{2}{\\left(\\theta \\right)} \\left(\\frac{d}{d t} a{\\left(t \\right)}\\right)^{2} & 0\\\\0 & - \\sin^{2}{\\left(\\theta \\right)} \\left(\\frac{d}{d t} a{\\left(t \\right)}\\right)^{2} & 0 & 0\\\\0 & 0 & 0 & 0\\end{matrix}\\right] & \\left[\\begin{matrix}0 & 0 & 0 & 0\\\\0 & 0 & 0 & \\sin^{2}{\\left(\\theta \\right)} \\left(\\frac{d}{d t} a{\\left(t \\right)}\\right)^{2}\\\\0 & 0 & 0 & 0\\\\0 & - \\sin^{2}{\\left(\\theta \\right)} \\left(\\frac{d}{d t} a{\\left(t \\right)}\\right)^{2} & 0 & 0\\end{matrix}\\right]\\\\\\left[\\begin{matrix}0 & 0 & \\frac{\\frac{d^{2}}{d t^{2}} a{\\left(t \\right)}}{a{\\left(t \\right)}} & 0\\\\0 & 0 & 0 & 0\\\\- \\frac{\\frac{d^{2}}{d t^{2}} a{\\left(t \\right)}}{a{\\left(t \\right)}} & 0 & 0 & 0\\\\0 & 0 & 0 & 0\\end{matrix}\\right] & \\left[\\begin{matrix}0 & 0 & 0 & 0\\\\0 & 0 & - \\left(\\frac{d}{d t} a{\\left(t \\right)}\\right)^{2} & 0\\\\0 & \\left(\\frac{d}{d t} a{\\left(t \\right)}\\right)^{2} & 0 & 0\\\\0 & 0 & 0 & 0\\end{matrix}\\right] & \\left[\\begin{matrix}0 & 0 & 0 & 0\\\\0 & 0 & 0 & 0\\\\0 & 0 & 0 & 0\\\\0 & 0 & 0 & 0\\end{matrix}\\right] & \\left[\\begin{matrix}0 & 0 & 0 & 0\\\\0 & 0 & 0 & 0\\\\0 & 0 & 0 & \\sin^{2}{\\left(\\theta \\right)} \\left(\\frac{d}{d t} a{\\left(t \\right)}\\right)^{2} + \\frac{1}{\\sin^{2}{\\left(\\theta \\right)}}\\\\0 & 0 & - \\sin^{2}{\\left(\\theta \\right)} \\left(\\frac{d}{d t} a{\\left(t \\right)}\\right)^{2} - \\frac{1}{\\sin^{2}{\\left(\\theta \\right)}} & 0\\end{matrix}\\right]\\\\\\left[\\begin{matrix}0 & 0 & 0 & \\frac{\\frac{d^{2}}{d t^{2}} a{\\left(t \\right)}}{a{\\left(t \\right)}}\\\\0 & 0 & 0 & 0\\\\0 & 0 & 0 & 0\\\\- \\frac{\\frac{d^{2}}{d t^{2}} a{\\left(t \\right)}}{a{\\left(t \\right)}} & 0 & 0 & 0\\end{matrix}\\right] & \\left[\\begin{matrix}0 & 0 & 0 & 0\\\\0 & 0 & 0 & - \\left(\\frac{d}{d t} a{\\left(t \\right)}\\right)^{2}\\\\0 & 0 & 0 & 0\\\\0 & \\left(\\frac{d}{d t} a{\\left(t \\right)}\\right)^{2} & 0 & 0\\end{matrix}\\right] & \\left[\\begin{matrix}0 & 0 & 0 & 0\\\\0 & 0 & 0 & 0\\\\0 & 0 & 0 & - \\sin^{2}{\\left(\\theta \\right)} \\left(\\frac{d}{d t} a{\\left(t \\right)}\\right)^{2} - \\frac{1}{\\sin^{2}{\\left(\\theta \\right)}}\\\\0 & 0 & \\sin^{2}{\\left(\\theta \\right)} \\left(\\frac{d}{d t} a{\\left(t \\right)}\\right)^{2} + \\frac{1}{\\sin^{2}{\\left(\\theta \\right)}} & 0\\end{matrix}\\right] & \\left[\\begin{matrix}0 & 0 & 0 & 0\\\\0 & 0 & 0 & 0\\\\0 & 0 & 0 & 0\\\\0 & 0 & 0 & 0\\end{matrix}\\right]\\end{matrix}\\right]$"
      ],
      "text/plain": [
       "[[[[0, 0, 0, 0], [0, 0, 0, 0], [0, 0, 0, 0], [0, 0, 0, 0]], [[0, a(t)*Derivative(a(t), (t, 2)), 0, 0], [-a(t)*Derivative(a(t), (t, 2)), 0, 0, 0], [0, 0, 0, 0], [0, 0, 0, 0]], [[0, 0, a(t)*sin(theta)**2*Derivative(a(t), (t, 2)), 0], [0, 0, 0, 0], [-a(t)*sin(theta)**2*Derivative(a(t), (t, 2)), 0, 0, 0], [0, 0, 0, 0]], [[0, 0, 0, a(t)*sin(theta)**2*Derivative(a(t), (t, 2))], [0, 0, 0, 0], [0, 0, 0, 0], [-a(t)*sin(theta)**2*Derivative(a(t), (t, 2)), 0, 0, 0]]], [[[0, Derivative(a(t), (t, 2))/a(t), 0, 0], [-Derivative(a(t), (t, 2))/a(t), 0, 0, 0], [0, 0, 0, 0], [0, 0, 0, 0]], [[0, 0, 0, 0], [0, 0, 0, 0], [0, 0, 0, 0], [0, 0, 0, 0]], [[0, 0, 0, 0], [0, 0, sin(theta)**2*Derivative(a(t), t)**2, 0], [0, -sin(theta)**2*Derivative(a(t), t)**2, 0, 0], [0, 0, 0, 0]], [[0, 0, 0, 0], [0, 0, 0, sin(theta)**2*Derivative(a(t), t)**2], [0, 0, 0, 0], [0, -sin(theta)**2*Derivative(a(t), t)**2, 0, 0]]], [[[0, 0, Derivative(a(t), (t, 2))/a(t), 0], [0, 0, 0, 0], [-Derivative(a(t), (t, 2))/a(t), 0, 0, 0], [0, 0, 0, 0]], [[0, 0, 0, 0], [0, 0, -Derivative(a(t), t)**2, 0], [0, Derivative(a(t), t)**2, 0, 0], [0, 0, 0, 0]], [[0, 0, 0, 0], [0, 0, 0, 0], [0, 0, 0, 0], [0, 0, 0, 0]], [[0, 0, 0, 0], [0, 0, 0, 0], [0, 0, 0, sin(theta)**2*Derivative(a(t), t)**2 + sin(theta)**(-2)], [0, 0, -sin(theta)**2*Derivative(a(t), t)**2 - 1/sin(theta)**2, 0]]], [[[0, 0, 0, Derivative(a(t), (t, 2))/a(t)], [0, 0, 0, 0], [0, 0, 0, 0], [-Derivative(a(t), (t, 2))/a(t), 0, 0, 0]], [[0, 0, 0, 0], [0, 0, 0, -Derivative(a(t), t)**2], [0, 0, 0, 0], [0, Derivative(a(t), t)**2, 0, 0]], [[0, 0, 0, 0], [0, 0, 0, 0], [0, 0, 0, -sin(theta)**2*Derivative(a(t), t)**2 - 1/sin(theta)**2], [0, 0, sin(theta)**2*Derivative(a(t), t)**2 + sin(theta)**(-2), 0]], [[0, 0, 0, 0], [0, 0, 0, 0], [0, 0, 0, 0], [0, 0, 0, 0]]]]"
      ]
     },
     "execution_count": 4,
     "metadata": {},
     "output_type": "execute_result"
    }
   ],
   "source": [
    "riemann_tensor = RiemannCurvatureTensor.from_metric(metric)\n",
    "riemann_tensor.tensor()"
   ]
  },
  {
   "cell_type": "code",
   "execution_count": null,
   "metadata": {},
   "outputs": [],
   "source": []
  }
 ],
 "metadata": {
  "kernelspec": {
   "display_name": "Python 3",
   "language": "python",
   "name": "python3"
  },
  "language_info": {
   "codemirror_mode": {
    "name": "ipython",
    "version": 3
   },
   "file_extension": ".py",
   "mimetype": "text/x-python",
   "name": "python",
   "nbconvert_exporter": "python",
   "pygments_lexer": "ipython3",
   "version": "3.10.5"
  },
  "orig_nbformat": 4
 },
 "nbformat": 4,
 "nbformat_minor": 2
}
